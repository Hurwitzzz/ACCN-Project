{
 "cells": [
  {
   "cell_type": "code",
   "execution_count": 3,
   "metadata": {},
   "outputs": [
    {
     "name": "stdout",
     "output_type": "stream",
     "text": [
      "1D FFT:\n",
      " [10.+0.j -2.+2.j -2.+0.j -2.-2.j]\n",
      "1D IFFT:\n",
      " [1.+0.j 2.+0.j 3.+0.j 4.+0.j]\n",
      "2D FFT:\n",
      " [[136. +0.j  -8. +8.j  -8. +0.j  -8. -8.j]\n",
      " [-32.+32.j   0. +0.j   0. +0.j   0. +0.j]\n",
      " [-32. +0.j   0. +0.j   0. +0.j   0. +0.j]\n",
      " [-32.-32.j   0. +0.j   0. +0.j   0. +0.j]]\n",
      "2D IFFT:\n",
      " [[ 1.+0.j  2.+0.j  3.+0.j  4.+0.j]\n",
      " [ 5.+0.j  6.+0.j  7.+0.j  8.+0.j]\n",
      " [ 9.+0.j 10.+0.j 11.+0.j 12.+0.j]\n",
      " [13.+0.j 14.+0.j 15.+0.j 16.+0.j]]\n"
     ]
    }
   ],
   "source": [
    "import numpy as np\n",
    "\n",
    "# Calculate FFT and IFFT of a 1D array\n",
    "def fft_1d(array):\n",
    "    return np.fft.fft(array)\n",
    "\n",
    "def ifft_1d(array):\n",
    "    return np.fft.ifft(array)\n",
    "\n",
    "# Calculate 2D FFT and IFFT of a 2D array\n",
    "def fft_2d(array):\n",
    "    return np.fft.fft2(array)\n",
    "\n",
    "def ifft_2d(array):\n",
    "    return np.fft.ifft2(array)\n",
    "\n",
    "# Testing the functions\n",
    "array_1d = np.array([1, 2, 3, 4, 5, 6, 7 ,8])\n",
    "print(\"1D FFT:\\n\", fft_1d(array_1d))\n",
    "print(\"1D IFFT:\\n\", ifft_1d(fft_1d(array_1d)))\n",
    "\n",
    "array_2d = np.array([[1,2,3,4],[5,6,7,8],[9,10,11,12],[13,14,15,16]])\n",
    "print(\"2D FFT:\\n\", fft_2d(array_2d))\n",
    "print(\"2D IFFT:\\n\", ifft_2d(fft_2d(array_2d)))\n"
   ]
  }
 ],
 "metadata": {
  "kernelspec": {
   "display_name": "Python 3.10.4 ('i2dl')",
   "language": "python",
   "name": "python3"
  },
  "language_info": {
   "codemirror_mode": {
    "name": "ipython",
    "version": 3
   },
   "file_extension": ".py",
   "mimetype": "text/x-python",
   "name": "python",
   "nbconvert_exporter": "python",
   "pygments_lexer": "ipython3",
   "version": "3.10.4"
  },
  "orig_nbformat": 4,
  "vscode": {
   "interpreter": {
    "hash": "265abc20974d362a9f626b5ec5a956625e9c9997be958ce0addb9b4ff9ea58c8"
   }
  }
 },
 "nbformat": 4,
 "nbformat_minor": 2
}
